{
 "cells": [
  {
   "cell_type": "code",
   "execution_count": 1,
   "metadata": {},
   "outputs": [],
   "source": [
    "import pandas as pd"
   ]
  },
  {
   "cell_type": "code",
   "execution_count": 2,
   "metadata": {},
   "outputs": [
    {
     "name": "stdout",
     "output_type": "stream",
     "text": [
      "ชื่อ =  Ja นามสกุล = La อายุ =  40\n"
     ]
    }
   ],
   "source": [
    "def myData(a,b,c):\n",
    "    print(\"ชื่อ = \",a,\"นามสกุล =\",b,\"อายุ = \",c)\n",
    "'''myData(\"Mojo\",\"Jojo\")\n",
    "myData(\"Mke\",\"Wasolski\")\n",
    "'''\n",
    "fname=\"Ja\"\n",
    "lname=\"La\"\n",
    "age = 40\n",
    "myData(fname,lname,age)\n"
   ]
  },
  {
   "cell_type": "markdown",
   "metadata": {},
   "source": [
    "#arguments ค่าที่ส่งเข้าไปใน function  >> fname,lname,age (ตอนที่เรียนใช้ฟังก์ชั่น) \n",
    "#parameter ค่าตัวแปรที่รับข้อมูลมาทำงาน (Arguments) >>>a,b,c\n",
    "\n",
    "#อาส่ง พารับ \n",
    "#ชื่อ function ซ้ำกันไม่ได้  จำนวน argument ที่ส่ง ต้องเท่ากับ parameter ที่รับ \n",
    "#args function เดียว ส่ง argument ได้หลายตัว  โครงสร้างข้อมูลจะเป็น tuple"
   ]
  },
  {
   "cell_type": "code",
   "execution_count": 3,
   "metadata": {},
   "outputs": [
    {
     "name": "stdout",
     "output_type": "stream",
     "text": [
      "(10,)\n",
      "(10, 20)\n",
      "(10, 20, 30, 'xyz')\n"
     ]
    }
   ],
   "source": [
    "'''\n",
    "def add(x,y) <<< จะจำกัดให้ส่ง 2 arguments\n",
    "    print(x+y)\n",
    "'''\n",
    "def add(*args):\n",
    "    print(args)\n",
    "\n",
    "add(10)\n",
    "add(10,20)\n",
    "add(10,20,30,\"xyz\")"
   ]
  },
  {
   "cell_type": "code",
   "execution_count": 4,
   "metadata": {},
   "outputs": [
    {
     "name": "stdout",
     "output_type": "stream",
     "text": [
      "(1, 2, 3, 4, 5)\n",
      "None\n"
     ]
    }
   ],
   "source": [
    "print(add(1,2,3,4,5))"
   ]
  },
  {
   "cell_type": "code",
   "execution_count": 6,
   "metadata": {},
   "outputs": [
    {
     "name": "stdout",
     "output_type": "stream",
     "text": [
      "10 is an even number\n",
      "23 is an odd number\n",
      "40 is an even number\n",
      "50 is an even number\n"
     ]
    }
   ],
   "source": [
    "#assignment odd even number\n",
    "def serchNumber(number):\n",
    "    if number%2==0:\n",
    "        print(number,\"is an even number\")\n",
    "    else:\n",
    "        print(number,\"is an odd number\")\n",
    "\n",
    "a,b,c,d,=10,23,40,50\n",
    "serchNumber(a)\n",
    "serchNumber(b)\n",
    "serchNumber(c)\n",
    "serchNumber(d)"
   ]
  },
  {
   "cell_type": "code",
   "execution_count": 7,
   "metadata": {},
   "outputs": [
    {
     "name": "stdout",
     "output_type": "stream",
     "text": [
      "30\n"
     ]
    }
   ],
   "source": [
    "def add(*args):\n",
    "    sum=0\n",
    "    for item in args:\n",
    "        sum+=item\n",
    "    print(sum)\n",
    "\n",
    "\n",
    "add(10,20)\n"
   ]
  },
  {
   "cell_type": "markdown",
   "metadata": {},
   "source": [
    "# keyword Arguments(KWARGS)\n"
   ]
  },
  {
   "cell_type": "code",
   "execution_count": 8,
   "metadata": {},
   "outputs": [
    {
     "name": "stdout",
     "output_type": "stream",
     "text": [
      "name : toronto\n",
      "lastname : avril\n",
      "city : lavigne\n",
      "name : Vancouver\n",
      "lastname : justin\n",
      "city : bieber\n"
     ]
    }
   ],
   "source": [
    "\n",
    "def displayData(fname,lname,city=\"bkk\"):\n",
    "    print(\"name :\",fname)\n",
    "    print(\"lastname :\",lname)\n",
    "    print(\"city :\",city)\n",
    "\n",
    "displayData(\"toronto\",\"avril\",\"lavigne\")\n",
    "displayData(\"Vancouver\",\"justin\",\"bieber\")\n"
   ]
  },
  {
   "cell_type": "markdown",
   "metadata": {},
   "source": [
    "\n",
    "'''run แล้วสลับกัน\n",
    "name : Vancouver\n",
    "lastname : justin\n",
    "city : bieber\n",
    "\n",
    "###เรียนใช้ function แบบใช้ keyword เอาชื่อ parameter มาอ้างอิง\n",
    "'''\n",
    "\n",
    "displayData(city=\"Vancouver\",lname=\"Bieber\",fname=\"Justin\")\n",
    "\n",
    "'''\n",
    "name : Justin\n",
    "lastname : Bieber\n",
    "city : Vancouver'''\n"
   ]
  },
  {
   "cell_type": "code",
   "execution_count": 9,
   "metadata": {},
   "outputs": [
    {
     "name": "stdout",
     "output_type": "stream",
     "text": [
      "name : Justin\n",
      "lastname : Bieber\n",
      "city : Vancouver\n"
     ]
    }
   ],
   "source": [
    "displayData(city=\"Vancouver\",lname=\"Bieber\",fname=\"Justin\")\n"
   ]
  },
  {
   "cell_type": "code",
   "execution_count": 10,
   "metadata": {},
   "outputs": [
    {
     "name": "stdout",
     "output_type": "stream",
     "text": [
      "fruit no.  1 = lemon\n",
      "fruit no.  2 = orange\n",
      "fruit no.  3 = pineapple\n"
     ]
    }
   ],
   "source": [
    "#ใส่ list\n",
    "def displayFruit(item):\n",
    "    for i in range(len(item)):\n",
    "        print(\"fruit no. \",i+1,\"=\",item[i])\n",
    "\n",
    "fruit=[\"lemon\",\"orange\",\"pineapple\"]\n",
    "displayFruit(fruit)"
   ]
  },
  {
   "cell_type": "code",
   "execution_count": 11,
   "metadata": {},
   "outputs": [
    {
     "name": "stdout",
     "output_type": "stream",
     "text": [
      "veg no.  1 = broccoli\n",
      "veg no.  2 = lettuce\n",
      "veg no.  3 = kale\n"
     ]
    }
   ],
   "source": [
    "#tuple (ปกติก็ tuple อยู่แล้ว )\n",
    "\n",
    "def displayveg(item):\n",
    "    for i in range(len(item)):\n",
    "        print(\"veg no. \",i+1,\"=\",item[i])\n",
    "\n",
    "veg=(\"broccoli\",\"lettuce\",\"kale\")\n",
    "displayveg(veg)     "
   ]
  },
  {
   "cell_type": "code",
   "execution_count": 13,
   "metadata": {},
   "outputs": [
    {
     "name": "stdout",
     "output_type": "stream",
     "text": [
      "Prize : None\n"
     ]
    }
   ],
   "source": [
    "def randomNumber(x):\n",
    "    if len(x)<3:\n",
    "        return\n",
    "    if x==\"100\":\n",
    "        print(\"Bingo\")\n",
    "        return 1000\n",
    "    else:\n",
    "        print(\"You Lost\")\n",
    "        return 0\n",
    "\n",
    "money = randomNumber(\"50\")  # <3\n",
    "\n",
    "print(\"Prize :\",money)\n"
   ]
  },
  {
   "cell_type": "code",
   "execution_count": 14,
   "metadata": {},
   "outputs": [
    {
     "name": "stdout",
     "output_type": "stream",
     "text": [
      "{'fname': 'justin', 'lname': 'bieber', 'city': 'toronto', 'status': 'married', 'job': 'singer'}\n",
      "justin\n",
      "{'fname': 'justin', 'lname': 'bieber', 'country': 'Canada'}\n",
      "justin\n"
     ]
    }
   ],
   "source": [
    "def displayData(**kwargs):\n",
    "    print(kwargs)\n",
    "    print(kwargs[\"fname\"]) #show แค่ fname ถ้าคำสั่งไหนไม่มี para fname จะ error\n",
    "   \n",
    "displayData(fname=\"justin\",lname=\"bieber\",city=\"toronto\",status=\"married\",job=\"singer\")\n",
    "displayData(fname=\"justin\",lname=\"bieber\",country=\"Canada\")\n",
    "\n",
    "\n",
    "# *args ค่าใน parameter มีได้หลายค่า\n",
    "# **kwargs ไม่มีการกำหนดชื่อ para มาตั้งแต่แรก ชื่อ  parameter มีได้หลายชื่อ\n",
    "\n"
   ]
  },
  {
   "cell_type": "markdown",
   "metadata": {},
   "source": [
    "#lambda func/ anonymous func ฟังก์ชั่นที่สร้างขึ้นมาโดยไม่ระบุชื่อฟังกชั่น\n",
    "\n",
    "\"\"\"\n",
    "โครงสร้าง\n",
    " lambda arguments: expression\n",
    "\n",
    "\"\"\""
   ]
  },
  {
   "cell_type": "code",
   "execution_count": 15,
   "metadata": {},
   "outputs": [
    {
     "name": "stdout",
     "output_type": "stream",
     "text": [
      "kaew\n"
     ]
    }
   ],
   "source": [
    "x=lambda name: name   \n",
    "\n",
    "print(x(\"kaew\"))  "
   ]
  },
  {
   "cell_type": "code",
   "execution_count": 16,
   "metadata": {},
   "outputs": [
    {
     "name": "stdout",
     "output_type": "stream",
     "text": [
      "15\n"
     ]
    }
   ],
   "source": [
    "sum = lambda y,z : y+z\n",
    "print(sum(5,10))"
   ]
  },
  {
   "cell_type": "code",
   "execution_count": 17,
   "metadata": {},
   "outputs": [
    {
     "name": "stdout",
     "output_type": "stream",
     "text": [
      "25\n"
     ]
    }
   ],
   "source": [
    "def myPower(x):\n",
    "    #x=ตัวเลข , a = เลขชี้กำลัง\n",
    "    return lambda a:x**a  #เดิม return x**x\n",
    "\n",
    "y=myPower(5) #ส่ง 5 ไปเป็น x , func return lambda a:5**a >>> y = lambda a:5**a\n",
    "result=y(2)\n",
    "\n",
    "print(result)"
   ]
  },
  {
   "cell_type": "code",
   "execution_count": null,
   "metadata": {},
   "outputs": [],
   "source": []
  }
 ],
 "metadata": {
  "kernelspec": {
   "display_name": "Python 3",
   "language": "python",
   "name": "python3"
  },
  "language_info": {
   "codemirror_mode": {
    "name": "ipython",
    "version": 3
   },
   "file_extension": ".py",
   "mimetype": "text/x-python",
   "name": "python",
   "nbconvert_exporter": "python",
   "pygments_lexer": "ipython3",
   "version": "3.8.5"
  }
 },
 "nbformat": 4,
 "nbformat_minor": 4
}
